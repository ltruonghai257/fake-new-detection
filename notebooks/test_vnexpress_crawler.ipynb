{
 "cells": [
  {
   "cell_type": "code",
   "execution_count": 2,
   "id": "4029eb83",
   "metadata": {},
   "outputs": [
    {
     "name": "stdout",
     "output_type": "stream",
     "text": [
      "--- Testing file saving ---\n",
      "Saving as JSON...\n"
     ]
    },
    {
     "data": {
      "text/html": [
       "<pre style=\"white-space:pre;overflow-x:auto;line-height:normal;font-family:Menlo,'DejaVu Sans Mono',consolas,'Courier New',monospace\"><span style=\"color: #008080; text-decoration-color: #008080; font-weight: bold\">[</span><span style=\"color: #008080; text-decoration-color: #008080\">INIT</span><span style=\"color: #008080; text-decoration-color: #008080; font-weight: bold\">]</span><span style=\"color: #008080; text-decoration-color: #008080\">.... → Crawl4AI </span><span style=\"color: #008080; text-decoration-color: #008080; font-weight: bold\">0.7</span><span style=\"color: #008080; text-decoration-color: #008080\">.</span><span style=\"color: #008080; text-decoration-color: #008080; font-weight: bold\">4</span><span style=\"color: #008080; text-decoration-color: #008080\"> </span>\n",
       "</pre>\n"
      ],
      "text/plain": [
       "\u001b[1;36m[\u001b[0m\u001b[36mINIT\u001b[0m\u001b[1;36m]\u001b[0m\u001b[36m...\u001b[0m\u001b[36m. → Crawl4AI \u001b[0m\u001b[1;36m0.7\u001b[0m\u001b[36m.\u001b[0m\u001b[1;36m4\u001b[0m\u001b[36m \u001b[0m\n"
      ]
     },
     "metadata": {},
     "output_type": "display_data"
    },
    {
     "data": {
      "text/html": [
       "<pre style=\"white-space:pre;overflow-x:auto;line-height:normal;font-family:Menlo,'DejaVu Sans Mono',consolas,'Courier New',monospace\"><span style=\"color: #008000; text-decoration-color: #008000; font-weight: bold\">[</span><span style=\"color: #008000; text-decoration-color: #008000\">FETCH</span><span style=\"color: #008000; text-decoration-color: #008000; font-weight: bold\">]</span><span style=\"color: #008000; text-decoration-color: #008000\">... ↓ </span><span style=\"color: #008000; text-decoration-color: #008000; text-decoration: underline\">https://vnexpress.net/</span><span style=\"color: #008000; text-decoration-color: #008000\">                                                                               |</span>\n",
       "<span style=\"color: #008000; text-decoration-color: #008000\">✓ | ⏱: </span><span style=\"color: #008000; text-decoration-color: #008000; font-weight: bold\">4.</span><span style=\"color: #008000; text-decoration-color: #008000\">02s </span>\n",
       "</pre>\n"
      ],
      "text/plain": [
       "\u001b[1;32m[\u001b[0m\u001b[32mFETCH\u001b[0m\u001b[1;32m]\u001b[0m\u001b[32m...\u001b[0m\u001b[32m ↓ \u001b[0m\u001b[4;32mhttps://vnexpress.net/\u001b[0m\u001b[32m                                                                               |\u001b[0m\n",
       "\u001b[32m✓\u001b[0m\u001b[32m | ⏱: \u001b[0m\u001b[1;32m4.\u001b[0m\u001b[32m02s \u001b[0m\n"
      ]
     },
     "metadata": {},
     "output_type": "display_data"
    },
    {
     "data": {
      "text/html": [
       "<pre style=\"white-space:pre;overflow-x:auto;line-height:normal;font-family:Menlo,'DejaVu Sans Mono',consolas,'Courier New',monospace\"><span style=\"color: #008000; text-decoration-color: #008000; font-weight: bold\">[</span><span style=\"color: #008000; text-decoration-color: #008000\">SCRAPE</span><span style=\"color: #008000; text-decoration-color: #008000; font-weight: bold\">]</span><span style=\"color: #008000; text-decoration-color: #008000\">.. ◆ </span><span style=\"color: #008000; text-decoration-color: #008000; text-decoration: underline\">https://vnexpress.net/</span><span style=\"color: #008000; text-decoration-color: #008000\">                                                                               |</span>\n",
       "<span style=\"color: #008000; text-decoration-color: #008000\">✓ | ⏱: </span><span style=\"color: #008000; text-decoration-color: #008000; font-weight: bold\">0.</span><span style=\"color: #008000; text-decoration-color: #008000\">09s </span>\n",
       "</pre>\n"
      ],
      "text/plain": [
       "\u001b[1;32m[\u001b[0m\u001b[32mSCRAPE\u001b[0m\u001b[1;32m]\u001b[0m\u001b[32m.. ◆ \u001b[0m\u001b[4;32mhttps://vnexpress.net/\u001b[0m\u001b[32m                                                                               |\u001b[0m\n",
       "\u001b[32m✓\u001b[0m\u001b[32m | ⏱: \u001b[0m\u001b[1;32m0.\u001b[0m\u001b[32m09s \u001b[0m\n"
      ]
     },
     "metadata": {},
     "output_type": "display_data"
    },
    {
     "data": {
      "text/html": [
       "<pre style=\"white-space:pre;overflow-x:auto;line-height:normal;font-family:Menlo,'DejaVu Sans Mono',consolas,'Courier New',monospace\"><span style=\"color: #008000; text-decoration-color: #008000; font-weight: bold\">[</span><span style=\"color: #008000; text-decoration-color: #008000\">COMPLETE</span><span style=\"color: #008000; text-decoration-color: #008000; font-weight: bold\">]</span><span style=\"color: #008000; text-decoration-color: #008000\"> ● </span><span style=\"color: #008000; text-decoration-color: #008000; text-decoration: underline\">https://vnexpress.net/</span><span style=\"color: #008000; text-decoration-color: #008000\">                                                                               |</span>\n",
       "<span style=\"color: #008000; text-decoration-color: #008000\">✓ | ⏱: </span><span style=\"color: #008000; text-decoration-color: #008000; font-weight: bold\">4.</span><span style=\"color: #008000; text-decoration-color: #008000\">11s </span>\n",
       "</pre>\n"
      ],
      "text/plain": [
       "\u001b[1;32m[\u001b[0m\u001b[32mCOMPLETE\u001b[0m\u001b[1;32m]\u001b[0m\u001b[32m ● \u001b[0m\u001b[4;32mhttps://vnexpress.net/\u001b[0m\u001b[32m                                                                               |\u001b[0m\n",
       "\u001b[32m✓\u001b[0m\u001b[32m | ⏱: \u001b[0m\u001b[1;32m4.\u001b[0m\u001b[32m11s \u001b[0m\n"
      ]
     },
     "metadata": {},
     "output_type": "display_data"
    },
    {
     "name": "stdout",
     "output_type": "stream",
     "text": [
      "Failed to run crawler in notebook environment: Invalid expression\n",
      "If running outside notebook, use: asyncio.run(main())\n"
     ]
    }
   ],
   "source": [
    "import sys\n",
    "import asyncio\n",
    "import os\n",
    "import json\n",
    "\n",
    "# Add the project root to the Python path\n",
    "if '..' not in sys.path:\n",
    "    sys.path.append('..')\n",
    "from src.crawler.news.real.VnExpressCrawler import VnExpressCrawler\n",
    "\n",
    "async def main():\n",
    "    # Instantiate the crawler\n",
    "    crawler = VnExpressCrawler()\n",
    "    \n",
    "    # --- Demo saving files --- \n",
    "    print(\"--- Testing file saving ---\")\n",
    "    # Save as JSON\n",
    "    print(\"Saving as JSON...\")\n",
    "    await crawler.arun(save_to_file=True, save_format=\".json\")\n",
    "    print(\"Done.\")\n",
    "    \n",
    "    # Save all images as jpg\n",
    "    print(\"\\nSaving all images as .jpg...\")\n",
    "    await crawler.arun(save_to_file=True, save_format=\".jpg\")\n",
    "    print(\"Done.\")\n",
    "\n",
    "    # --- Demo structured data extraction --- \n",
    "    print(\"\\n--- Testing structured data extraction ---\")\n",
    "    articles = await crawler.extract_with_schema()\n",
    "    if articles:\n",
    "        print(\"Extracted articles:\")\n",
    "        # pretty print the json\n",
    "        print(json.dumps(articles[:2], indent=2)) # print first 2 articles\n",
    "    else:\n",
    "        print(\"No articles extracted.\")\n",
    "\n",
    "    # --- Demo deep crawling a sub-url --- \n",
    "    print(\"\\n--- Testing deep crawling a sub-url ---\")\n",
    "    sub_url = \"https://vnexpress.net/thu-tuong-xu-nghiem-can-bo-thieu-trach-nhiem-sai-pham-trong-giai-ngan-dau-tu-cong-4952952.html\"\n",
    "    print(f\"Crawling {sub_url} with max_depth=1, max_pages=5...\")\n",
    "    await crawler.arun(url=sub_url, mode=\"deep\", max_depth=1, save_to_file=True, save_format=\".json\")\n",
    "    print(\"Done.\")\n",
    "\n",
    "    # --- Demo deep crawling with config --- \n",
    "    print(\"\\n--- Testing deep crawling with config ---\")\n",
    "    print(\"Crawling with max_depth=1, max_pages=5, and css_selector='article.item-news'\")\n",
    "    await crawler.deep_crawl_with_config(\n",
    "        start_url=\"https://vnexpress.net/\",\n",
    "        max_depth=1,\n",
    "        max_pages=5,\n",
    "        css_selector=\"article.item-news\"\n",
    "    )\n",
    "    print(\"Done.\")\n",
    "\n",
    "# Run the async main function\n",
    "try:\n",
    "    import nest_asyncio\n",
    "    nest_asyncio.apply()\n",
    "    asyncio.get_event_loop().run_until_complete(main())\n",
    "except Exception as e:\n",
    "    print('Failed to run crawler in notebook environment:', e)\n",
    "    print('If running outside notebook, use: asyncio.run(main())')"
   ]
  },
  {
   "cell_type": "code",
   "execution_count": null,
   "id": "a2ca385a",
   "metadata": {},
   "outputs": [],
   "source": []
  }
 ],
 "metadata": {
  "kernelspec": {
   "display_name": "fake_news",
   "language": "python",
   "name": "python3"
  },
  "language_info": {
   "codemirror_mode": {
    "name": "ipython",
    "version": 3
   },
   "file_extension": ".py",
   "mimetype": "text/x-python",
   "name": "python",
   "nbconvert_exporter": "python",
   "pygments_lexer": "ipython3",
   "version": "3.13.7"
  }
 },
 "nbformat": 4,
 "nbformat_minor": 5
}
