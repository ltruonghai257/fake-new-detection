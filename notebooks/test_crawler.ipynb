{
 "cells": [
  {
   "cell_type": "markdown",
   "id": "8a3d45ea",
   "metadata": {},
   "source": [
    "# Crawl outline\n",
    "\n",
    "1. Import Library — import required modules and verify availability.\n",
    "2. Analyze URL — parse and validate the target URL (HEAD check optional).\n",
    "3. Define function — implement an async wrapper that runs the crawler and returns results.\n",
    "4. Run Crawl — execute the crawler for a sample URL and print/save the output."
   ]
  },
  {
   "cell_type": "code",
   "execution_count": 12,
   "id": "3f074a77",
   "metadata": {},
   "outputs": [
    {
     "name": "stdout",
     "output_type": "stream",
     "text": [
      "Imports OK\n"
     ]
    }
   ],
   "source": [
    "# Step 1: Import Library\n",
    "import asyncio\n",
    "from urllib.parse import urlparse\n",
    "from crawl4ai import AsyncWebCrawler, BrowserConfig, CrawlerRunConfig, CacheMode, JsonCssExtractionStrategy\n",
    "\n",
    "print('Imports OK')"
   ]
  },
  {
   "cell_type": "code",
   "execution_count": 13,
   "id": "e6f2b17e",
   "metadata": {},
   "outputs": [
    {
     "name": "stdout",
     "output_type": "stream",
     "text": [
      "URL: https://www.example.com/sample-article\n",
      "Parsed: ParseResult(scheme='https', netloc='www.example.com', path='/sample-article', params='', query='', fragment='')\n",
      "HEAD status_code: 404\n",
      "HEAD status_code: 404\n"
     ]
    }
   ],
   "source": [
    "# Step 2: Analyze URL\n",
    "url = 'https://www.example.com/sample-article'  # replace with your target URL\n",
    "parsed = urlparse(url)\n",
    "print('URL:', url)\n",
    "print('Parsed:', parsed)\n",
    "\n",
    "# Optional: quick HEAD check (requires requests)\n",
    "try:\n",
    "    import requests\n",
    "    r = requests.head(url, timeout=5)\n",
    "    print('HEAD status_code:', r.status_code)\n",
    "except Exception as e:\n",
    "    print('HEAD check failed (network may be blocked or requests missing):', e)"
   ]
  },
  {
   "cell_type": "code",
   "execution_count": 14,
   "id": "9bdcbd58",
   "metadata": {},
   "outputs": [],
   "source": [
    "# Step 3: Define function (no top-level run here)\n",
    "async def simple_crawl(url, headless=True, timeout=30):\n",
    "    \"\"\"Run a minimal AsyncWebCrawler on the given URL and return the result object.\n",
    "    Adjust the extraction schema/strategy for your target pages as needed.\n",
    "    \"\"\"\n",
    "    schema = {\n",
    "        'name': 'example',\n",
    "        'baseSelector': 'body',\n",
    "        'fields': [\n",
    "            {'name': 'title', 'selector': 'head > title', 'type': 'text'},\n",
    "            {'name': 'content', 'selector': 'article', 'type': 'text'},\n",
    "        ]\n",
    "    }\n",
    "    extraction_strategy = JsonCssExtractionStrategy(schema)\n",
    "    browser_cfg = BrowserConfig(headless=headless)\n",
    "    run_cfg = CrawlerRunConfig(extraction_strategy=extraction_strategy, cache_mode=CacheMode.BYPASS)\n",
    "    async with AsyncWebCrawler(config=browser_cfg) as crawler:\n",
    "        result = await crawler.arun(url=url, config=run_cfg)\n",
    "    return result"
   ]
  },
  {
   "cell_type": "code",
   "execution_count": null,
   "id": "e6b80136",
   "metadata": {},
   "outputs": [],
   "source": []
  }
 ],
 "metadata": {
  "kernelspec": {
   "display_name": "fake_news",
   "language": "python",
   "name": "python3"
  },
  "language_info": {
   "codemirror_mode": {
    "name": "ipython",
    "version": 3
   },
   "file_extension": ".py",
   "mimetype": "text/x-python",
   "name": "python",
   "nbconvert_exporter": "python",
   "pygments_lexer": "ipython3",
   "version": "3.13.7"
  }
 },
 "nbformat": 4,
 "nbformat_minor": 5
}
