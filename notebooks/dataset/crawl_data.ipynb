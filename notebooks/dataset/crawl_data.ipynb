{
 "cells": [
  {
   "cell_type": "code",
   "execution_count": 1,
   "id": "ab237159",
   "metadata": {},
   "outputs": [],
   "source": [
    "import os, sys\n",
    "sys.path.append(os.path.abspath(\"../..\"))"
   ]
  },
  {
   "cell_type": "code",
   "execution_count": 4,
   "id": "02e754d1",
   "metadata": {},
   "outputs": [],
   "source": [
    "from src import VnExpressCrawler"
   ]
  },
  {
   "cell_type": "code",
   "execution_count": 6,
   "id": "9d6f810f",
   "metadata": {},
   "outputs": [
    {
     "name": "stdout",
     "output_type": "stream",
     "text": [
      "Directory ../../data/raw/vn_express already exists.\n"
     ]
    }
   ],
   "source": [
    "vn_express_crawler = VnExpressCrawler(folder_path=\"../../data/raw/vn_express\")"
   ]
  },
  {
   "cell_type": "code",
   "execution_count": 19,
   "id": "a6b1f91b",
   "metadata": {},
   "outputs": [
    {
     "data": {
      "text/html": [
       "<pre style=\"white-space:pre;overflow-x:auto;line-height:normal;font-family:Menlo,'DejaVu Sans Mono',consolas,'Courier New',monospace\"><span style=\"color: #008080; text-decoration-color: #008080; font-weight: bold\">[</span><span style=\"color: #008080; text-decoration-color: #008080\">INIT</span><span style=\"color: #008080; text-decoration-color: #008080; font-weight: bold\">]</span><span style=\"color: #008080; text-decoration-color: #008080\">.... → Crawl4AI </span><span style=\"color: #008080; text-decoration-color: #008080; font-weight: bold\">0.7</span><span style=\"color: #008080; text-decoration-color: #008080\">.</span><span style=\"color: #008080; text-decoration-color: #008080; font-weight: bold\">4</span><span style=\"color: #008080; text-decoration-color: #008080\"> </span>\n",
       "</pre>\n"
      ],
      "text/plain": [
       "\u001b[1;36m[\u001b[0m\u001b[36mINIT\u001b[0m\u001b[1;36m]\u001b[0m\u001b[36m...\u001b[0m\u001b[36m. → Crawl4AI \u001b[0m\u001b[1;36m0.7\u001b[0m\u001b[36m.\u001b[0m\u001b[1;36m4\u001b[0m\u001b[36m \u001b[0m\n"
      ]
     },
     "metadata": {},
     "output_type": "display_data"
    },
    {
     "data": {
      "text/html": [
       "<pre style=\"white-space:pre;overflow-x:auto;line-height:normal;font-family:Menlo,'DejaVu Sans Mono',consolas,'Courier New',monospace\"><span style=\"color: #008000; text-decoration-color: #008000; font-weight: bold\">[</span><span style=\"color: #008000; text-decoration-color: #008000\">FETCH</span><span style=\"color: #008000; text-decoration-color: #008000; font-weight: bold\">]</span><span style=\"color: #008000; text-decoration-color: #008000\">... ↓ </span><span style=\"color: #008000; text-decoration-color: #008000; text-decoration: underline\">https://vnexpress.net/</span><span style=\"color: #008000; text-decoration-color: #008000\">                                                                               |</span>\n",
       "<span style=\"color: #008000; text-decoration-color: #008000\">✓ | ⏱: </span><span style=\"color: #008000; text-decoration-color: #008000; font-weight: bold\">1.</span><span style=\"color: #008000; text-decoration-color: #008000\">09s </span>\n",
       "</pre>\n"
      ],
      "text/plain": [
       "\u001b[1;32m[\u001b[0m\u001b[32mFETCH\u001b[0m\u001b[1;32m]\u001b[0m\u001b[32m...\u001b[0m\u001b[32m ↓ \u001b[0m\u001b[4;32mhttps://vnexpress.net/\u001b[0m\u001b[32m                                                                               |\u001b[0m\n",
       "\u001b[32m✓\u001b[0m\u001b[32m | ⏱: \u001b[0m\u001b[1;32m1.\u001b[0m\u001b[32m09s \u001b[0m\n"
      ]
     },
     "metadata": {},
     "output_type": "display_data"
    },
    {
     "data": {
      "text/html": [
       "<pre style=\"white-space:pre;overflow-x:auto;line-height:normal;font-family:Menlo,'DejaVu Sans Mono',consolas,'Courier New',monospace\"><span style=\"color: #008000; text-decoration-color: #008000; font-weight: bold\">[</span><span style=\"color: #008000; text-decoration-color: #008000\">SCRAPE</span><span style=\"color: #008000; text-decoration-color: #008000; font-weight: bold\">]</span><span style=\"color: #008000; text-decoration-color: #008000\">.. ◆ </span><span style=\"color: #008000; text-decoration-color: #008000; text-decoration: underline\">https://vnexpress.net/</span><span style=\"color: #008000; text-decoration-color: #008000\">                                                                               |</span>\n",
       "<span style=\"color: #008000; text-decoration-color: #008000\">✓ | ⏱: </span><span style=\"color: #008000; text-decoration-color: #008000; font-weight: bold\">0.</span><span style=\"color: #008000; text-decoration-color: #008000\">04s </span>\n",
       "</pre>\n"
      ],
      "text/plain": [
       "\u001b[1;32m[\u001b[0m\u001b[32mSCRAPE\u001b[0m\u001b[1;32m]\u001b[0m\u001b[32m.. ◆ \u001b[0m\u001b[4;32mhttps://vnexpress.net/\u001b[0m\u001b[32m                                                                               |\u001b[0m\n",
       "\u001b[32m✓\u001b[0m\u001b[32m | ⏱: \u001b[0m\u001b[1;32m0.\u001b[0m\u001b[32m04s \u001b[0m\n"
      ]
     },
     "metadata": {},
     "output_type": "display_data"
    },
    {
     "data": {
      "text/html": [
       "<pre style=\"white-space:pre;overflow-x:auto;line-height:normal;font-family:Menlo,'DejaVu Sans Mono',consolas,'Courier New',monospace\"><span style=\"color: #008000; text-decoration-color: #008000; font-weight: bold\">[</span><span style=\"color: #008000; text-decoration-color: #008000\">COMPLETE</span><span style=\"color: #008000; text-decoration-color: #008000; font-weight: bold\">]</span><span style=\"color: #008000; text-decoration-color: #008000\"> ● </span><span style=\"color: #008000; text-decoration-color: #008000; text-decoration: underline\">https://vnexpress.net/</span><span style=\"color: #008000; text-decoration-color: #008000\">                                                                               |</span>\n",
       "<span style=\"color: #008000; text-decoration-color: #008000\">✓ | ⏱: </span><span style=\"color: #008000; text-decoration-color: #008000; font-weight: bold\">1.</span><span style=\"color: #008000; text-decoration-color: #008000\">14s </span>\n",
       "</pre>\n"
      ],
      "text/plain": [
       "\u001b[1;32m[\u001b[0m\u001b[32mCOMPLETE\u001b[0m\u001b[1;32m]\u001b[0m\u001b[32m ● \u001b[0m\u001b[4;32mhttps://vnexpress.net/\u001b[0m\u001b[32m                                                                               |\u001b[0m\n",
       "\u001b[32m✓\u001b[0m\u001b[32m | ⏱: \u001b[0m\u001b[1;32m1.\u001b[0m\u001b[32m14s \u001b[0m\n"
      ]
     },
     "metadata": {},
     "output_type": "display_data"
    }
   ],
   "source": [
    "from crawl4ai import CacheMode\n",
    "import nest_asyncio, asyncio\n",
    "nest_asyncio.apply()\n",
    "vn_express_crawler.config_browser(config={\n",
    "    \"browser_type\": \"webkit\",\n",
    "})\n",
    "vn_express_crawler.config_crawler_run(config = {\n",
    "    \"word_count_threshold\": 10,\n",
    "    \"excluded_tags\": ['nav', \"footer\", \"header\", \"article\"],\n",
    "    \"exclude_external_links\": True,\n",
    "    \"exclude_external_images\": True,\n",
    "    \"cache_mode\": CacheMode.BYPASS\n",
    "})\n",
    "result = asyncio.run(vn_express_crawler.simple_crawling())"
   ]
  },
  {
   "cell_type": "code",
   "execution_count": 20,
   "id": "9729809a",
   "metadata": {},
   "outputs": [
    {
     "data": {
      "text/plain": [
       "'  * [](https://vnexpress.net/ganh-nang-voi-ho-kinh-doanh-se-tang-dang-ke-khi-bo-thue-khoan-4950861.html \"\\'Gánh nặng với hộ kinh doanh sẽ tăng đáng kể khi bỏ thuế khoán\\'\")\\n###  [\\'Gánh nặng với hộ kinh doanh sẽ tăng đáng kể khi bỏ thuế khoán\\'](https://vnexpress.net/ganh-nang-voi-ho-kinh-doanh-se-tang-dang-ke-khi-bo-thue-khoan-4950861.html \"\\'Gánh nặng với hộ kinh doanh sẽ tăng đáng kể khi bỏ thuế khoán\\'\") [ ](https://vnexpress.net/ganh-nang-voi-ho-kinh-doanh-se-tang-dang-ke-khi-bo-thue-khoan-4950861.html#box_comment_vne)\\n  * [](https://vnexpress.net/chu-tich-ha-noi-khong-nao-vet-song-ho-do-khong-co-cho-do-bun-dung-quy-dinh-4950716.html \"Chủ tịch Hà Nội: Không nạo vét sông hồ do không có chỗ đổ bùn đúng quy định\")\\n###  [Chủ tịch Hà Nội: Không nạo vét sông hồ do không có chỗ đổ bùn đúng quy định](https://vnexpress.net/chu-tich-ha-noi-khong-nao-vet-song-ho-do-khong-co-cho-do-bun-dung-quy-dinh-4950716.html \"Chủ tịch Hà Nội: Không nạo vét sông hồ do không có chỗ đổ bùn đúng quy định\") [ ](https://vnexpress.net/chu-tich-ha-noi-khong-nao-vet-song-ho-do-khong-co-cho-do-bun-dung-quy-dinh-4950716.html#box_comment_vne)\\n  * [Góc nhìn](https://vnexpress.net/goc-nhin \"Góc nhìn\")\\n\\n\\n## [Kinh doanh](https://vnexpress.net/kinh-doanh \"Kinh doanh\")\\n[Quốc tế](https://vnexpress.net/kinh-doanh/quoc-te \"Quốc tế\")[Doanh nghiệp](https://vnexpress.net/kinh-doanh/doanh-nghiep \"Doanh nghiệp\")[Hàng hóa](https://vnexpress.net/kinh-doanh/hang-hoa \"Hàng hóa\")[Vĩ mô](https://vnexpress.net/kinh-doanh/vi-mo \"Vĩ mô\")[Ebank](https://vnexpress.net/kinh-doanh/ebank \"Ebank\")[Hậu trường kinh doanh](https://vnexpress.net/topic/hau-truong-doanh-nghiep-doanh-nhan-25880 \"Hậu trường kinh doanh\")\\n### [Giá vàng thế giới **Mua:** 4.112,8 USD/ounce **Bán:** 4.114,8 USD/ounce ](https://vnexpress.net/chu-de/gia-vang-1403)### [Giá vàng SJC **Mua:** 142,1 triệu đồng/lượng **Bán:** 144,1 triệu đồng/lượng ](https://vnexpress.net/chu-de/gia-vang-1403) ### [Lãi suất tiết kiệm Online **1 Tháng:** 4.6% **3 Tháng:** 4.6% **6 Tháng:** 5.7% **9 Tháng:** 5.75% **12 Tháng:** 6% ](https://vnexpress.net/chu-de/lai-suat-ngan-hang-3210)### [Lãi suất tiết kiệm tại quầy **1 Tháng:** 4.1% **3 Tháng:** 4.3% **6 Tháng:** 5.3% **9 Tháng:** 5.5% **12 Tháng:** 5.7% ](https://vnexpress.net/chu-de/lai-suat-ngan-hang-3210)\\n### [](https://vnexpress.net/)\\n### [](https://vnexpress.net/)\\n### [](https://vnexpress.net/)\\n### [](https://vnexpress.net/)\\n### [](https://vnexpress.net/)\\nCẩm nang\\n[Hô hấp](https://vnexpress.net/suc-khoe/cac-benh/benh-ho-hap \"Hô hấp\")\\n[Tai mũi họng](https://vnexpress.net/suc-khoe/cac-benh/benh-tai-mui-hong \"Tai mũi họng\")\\n[Da liễu](https://vnexpress.net/suc-khoe/cac-benh/da-lieu \"Da liễu\")\\n[Tiêu hóa](https://vnexpress.net/suc-khoe/cac-benh/benh-tieu-hoa \"Tiêu hóa\")\\n[Cơ xương khớp](https://vnexpress.net/suc-khoe/cac-benh/benh-co-xuong-khop \"Cơ xương khớp\")\\n[Tim mạch](https://vnexpress.net/suc-khoe/cac-benh/benh-tim-mach \"Tim mạch\")\\n[Nội tiết](https://vnexpress.net/suc-khoe/cac-benh/benh-noi-tiet \"Nội tiết\")\\n[Ung thư](https://vnexpress.net/suc-khoe/cac-benh/benh-ung-thu \"Ung thư\")\\n[Dinh dưỡng](https://vnexpress.net/suc-khoe/cac-benh/benh-dinh-duong \"Dinh dưỡng\")\\n[Thần kinh](https://vnexpress.net/suc-khoe/cac-benh/benh-than-kinh \"Thần kinh\")\\n[Hiếm muộn](https://vnexpress.net/suc-khoe/cac-benh/benh-hiem-muon \"Hiếm muộn\")\\n[Nhi - Sơ sinh](https://vnexpress.net/suc-khoe/cac-benh/benh-nhi-so-sinh \"Nhi - Sơ sinh\")\\n[Sản phụ khoa](https://vnexpress.net/suc-khoe/cac-benh/benh-san-phu-khoa \"Sản phụ khoa\")\\n[Tiết niệu - Nam học](https://vnexpress.net/suc-khoe/cac-benh/benh-tiet-nieu-nam-hoc \"Tiết niệu - Nam học\")\\n[Nhãn khoa](https://vnexpress.net/suc-khoe/cac-benh/nhan-khoa \"Nhãn khoa\")\\n'"
      ]
     },
     "execution_count": 20,
     "metadata": {},
     "output_type": "execute_result"
    }
   ],
   "source": [
    "result.markdown  # print first 1000 characters"
   ]
  },
  {
   "cell_type": "code",
   "execution_count": 21,
   "id": "eaed40a7",
   "metadata": {},
   "outputs": [],
   "source": [
    "vn_express_crawler.save_to_file(data=result.markdown, ext=\".md\")"
   ]
  },
  {
   "cell_type": "code",
   "execution_count": 22,
   "id": "94aff289",
   "metadata": {},
   "outputs": [
    {
     "data": {
      "text/plain": [
       "{'content': '  * [](https://vnexpress.net/ganh-nang-voi-ho-kinh-doanh-se-tang-dang-ke-khi-bo-thue-khoan-4950861.html \"\\'Gánh nặng với hộ kinh doanh sẽ tăng đáng kể khi bỏ thuế khoán\\'\")\\n###  [\\'Gánh nặng với hộ kinh doanh sẽ tăng đáng kể khi bỏ thuế khoán\\'](https://vnexpress.net/ganh-nang-voi-ho-kinh-doanh-se-tang-dang-ke-khi-bo-thue-khoan-4950861.html \"\\'Gánh nặng với hộ kinh doanh sẽ tăng đáng kể khi bỏ thuế khoán\\'\") [ ](https://vnexpress.net/ganh-nang-voi-ho-kinh-doanh-se-tang-dang-ke-khi-bo-thue-khoan-4950861.html#box_comment_vne)\\n  * [](https://vnexpress.net/chu-tich-ha-noi-khong-nao-vet-song-ho-do-khong-co-cho-do-bun-dung-quy-dinh-4950716.html \"Chủ tịch Hà Nội: Không nạo vét sông hồ do không có chỗ đổ bùn đúng quy định\")\\n###  [Chủ tịch Hà Nội: Không nạo vét sông hồ do không có chỗ đổ bùn đúng quy định](https://vnexpress.net/chu-tich-ha-noi-khong-nao-vet-song-ho-do-khong-co-cho-do-bun-dung-quy-dinh-4950716.html \"Chủ tịch Hà Nội: Không nạo vét sông hồ do không có chỗ đổ bùn đúng quy định\") [ ](https://vnexpress.net/chu-tich-ha-noi-khong-nao-vet-song-ho-do-khong-co-cho-do-bun-dung-quy-dinh-4950716.html#box_comment_vne)\\n  * [Góc nhìn](https://vnexpress.net/goc-nhin \"Góc nhìn\")\\n\\n\\n## [Kinh doanh](https://vnexpress.net/kinh-doanh \"Kinh doanh\")\\n[Quốc tế](https://vnexpress.net/kinh-doanh/quoc-te \"Quốc tế\")[Doanh nghiệp](https://vnexpress.net/kinh-doanh/doanh-nghiep \"Doanh nghiệp\")[Hàng hóa](https://vnexpress.net/kinh-doanh/hang-hoa \"Hàng hóa\")[Vĩ mô](https://vnexpress.net/kinh-doanh/vi-mo \"Vĩ mô\")[Ebank](https://vnexpress.net/kinh-doanh/ebank \"Ebank\")[Hậu trường kinh doanh](https://vnexpress.net/topic/hau-truong-doanh-nghiep-doanh-nhan-25880 \"Hậu trường kinh doanh\")\\n### [Giá vàng thế giới **Mua:** 4.112,8 USD/ounce **Bán:** 4.114,8 USD/ounce ](https://vnexpress.net/chu-de/gia-vang-1403)### [Giá vàng SJC **Mua:** 142,1 triệu đồng/lượng **Bán:** 144,1 triệu đồng/lượng ](https://vnexpress.net/chu-de/gia-vang-1403) ### [Lãi suất tiết kiệm Online **1 Tháng:** 4.6% **3 Tháng:** 4.6% **6 Tháng:** 5.7% **9 Tháng:** 5.75% **12 Tháng:** 6% ](https://vnexpress.net/chu-de/lai-suat-ngan-hang-3210)### [Lãi suất tiết kiệm tại quầy **1 Tháng:** 4.1% **3 Tháng:** 4.3% **6 Tháng:** 5.3% **9 Tháng:** 5.5% **12 Tháng:** 5.7% ](https://vnexpress.net/chu-de/lai-suat-ngan-hang-3210)\\n### [](https://vnexpress.net/)\\n### [](https://vnexpress.net/)\\n### [](https://vnexpress.net/)\\n### [](https://vnexpress.net/)\\n### [](https://vnexpress.net/)\\nCẩm nang\\n[Hô hấp](https://vnexpress.net/suc-khoe/cac-benh/benh-ho-hap \"Hô hấp\")\\n[Tai mũi họng](https://vnexpress.net/suc-khoe/cac-benh/benh-tai-mui-hong \"Tai mũi họng\")\\n[Da liễu](https://vnexpress.net/suc-khoe/cac-benh/da-lieu \"Da liễu\")\\n[Tiêu hóa](https://vnexpress.net/suc-khoe/cac-benh/benh-tieu-hoa \"Tiêu hóa\")\\n[Cơ xương khớp](https://vnexpress.net/suc-khoe/cac-benh/benh-co-xuong-khop \"Cơ xương khớp\")\\n[Tim mạch](https://vnexpress.net/suc-khoe/cac-benh/benh-tim-mach \"Tim mạch\")\\n[Nội tiết](https://vnexpress.net/suc-khoe/cac-benh/benh-noi-tiet \"Nội tiết\")\\n[Ung thư](https://vnexpress.net/suc-khoe/cac-benh/benh-ung-thu \"Ung thư\")\\n[Dinh dưỡng](https://vnexpress.net/suc-khoe/cac-benh/benh-dinh-duong \"Dinh dưỡng\")\\n[Thần kinh](https://vnexpress.net/suc-khoe/cac-benh/benh-than-kinh \"Thần kinh\")\\n[Hiếm muộn](https://vnexpress.net/suc-khoe/cac-benh/benh-hiem-muon \"Hiếm muộn\")\\n[Nhi - Sơ sinh](https://vnexpress.net/suc-khoe/cac-benh/benh-nhi-so-sinh \"Nhi - Sơ sinh\")\\n[Sản phụ khoa](https://vnexpress.net/suc-khoe/cac-benh/benh-san-phu-khoa \"Sản phụ khoa\")\\n[Tiết niệu - Nam học](https://vnexpress.net/suc-khoe/cac-benh/benh-tiet-nieu-nam-hoc \"Tiết niệu - Nam học\")\\n[Nhãn khoa](https://vnexpress.net/suc-khoe/cac-benh/nhan-khoa \"Nhãn khoa\")\\n'}"
      ]
     },
     "execution_count": 22,
     "metadata": {},
     "output_type": "execute_result"
    }
   ],
   "source": [
    "vn_express_crawler.read_from_file(\".md\")"
   ]
  },
  {
   "cell_type": "code",
   "execution_count": null,
   "id": "4e276d89",
   "metadata": {},
   "outputs": [
    {
     "data": {
      "text/html": [
       "<pre style=\"white-space:pre;overflow-x:auto;line-height:normal;font-family:Menlo,'DejaVu Sans Mono',consolas,'Courier New',monospace\"><span style=\"color: #008080; text-decoration-color: #008080; font-weight: bold\">[</span><span style=\"color: #008080; text-decoration-color: #008080\">INIT</span><span style=\"color: #008080; text-decoration-color: #008080; font-weight: bold\">]</span><span style=\"color: #008080; text-decoration-color: #008080\">.... → Crawl4AI </span><span style=\"color: #008080; text-decoration-color: #008080; font-weight: bold\">0.7</span><span style=\"color: #008080; text-decoration-color: #008080\">.</span><span style=\"color: #008080; text-decoration-color: #008080; font-weight: bold\">4</span><span style=\"color: #008080; text-decoration-color: #008080\"> </span>\n",
       "</pre>\n"
      ],
      "text/plain": [
       "\u001b[1;36m[\u001b[0m\u001b[36mINIT\u001b[0m\u001b[1;36m]\u001b[0m\u001b[36m...\u001b[0m\u001b[36m. → Crawl4AI \u001b[0m\u001b[1;36m0.7\u001b[0m\u001b[36m.\u001b[0m\u001b[1;36m4\u001b[0m\u001b[36m \u001b[0m\n"
      ]
     },
     "metadata": {},
     "output_type": "display_data"
    },
    {
     "data": {
      "text/html": [
       "<pre style=\"white-space:pre;overflow-x:auto;line-height:normal;font-family:Menlo,'DejaVu Sans Mono',consolas,'Courier New',monospace\"><span style=\"color: #008000; text-decoration-color: #008000; font-weight: bold\">[</span><span style=\"color: #008000; text-decoration-color: #008000\">FETCH</span><span style=\"color: #008000; text-decoration-color: #008000; font-weight: bold\">]</span><span style=\"color: #008000; text-decoration-color: #008000\">... ↓ </span><span style=\"color: #008000; text-decoration-color: #008000; text-decoration: underline\">https://www.kidocode.com/degrees/technology</span><span style=\"color: #008000; text-decoration-color: #008000\">                                                          |</span>\n",
       "<span style=\"color: #008000; text-decoration-color: #008000\">✓ | ⏱: </span><span style=\"color: #008000; text-decoration-color: #008000; font-weight: bold\">2.</span><span style=\"color: #008000; text-decoration-color: #008000\">01s </span>\n",
       "</pre>\n"
      ],
      "text/plain": [
       "\u001b[1;32m[\u001b[0m\u001b[32mFETCH\u001b[0m\u001b[1;32m]\u001b[0m\u001b[32m...\u001b[0m\u001b[32m ↓ \u001b[0m\u001b[4;32mhttps://www.kidocode.com/degrees/technology\u001b[0m\u001b[32m                                                          |\u001b[0m\n",
       "\u001b[32m✓\u001b[0m\u001b[32m | ⏱: \u001b[0m\u001b[1;32m2.\u001b[0m\u001b[32m01s \u001b[0m\n"
      ]
     },
     "metadata": {},
     "output_type": "display_data"
    },
    {
     "data": {
      "text/html": [
       "<pre style=\"white-space:pre;overflow-x:auto;line-height:normal;font-family:Menlo,'DejaVu Sans Mono',consolas,'Courier New',monospace\"><span style=\"color: #008000; text-decoration-color: #008000; font-weight: bold\">[</span><span style=\"color: #008000; text-decoration-color: #008000\">SCRAPE</span><span style=\"color: #008000; text-decoration-color: #008000; font-weight: bold\">]</span><span style=\"color: #008000; text-decoration-color: #008000\">.. ◆ </span><span style=\"color: #008000; text-decoration-color: #008000; text-decoration: underline\">https://www.kidocode.com/degrees/technology</span><span style=\"color: #008000; text-decoration-color: #008000\">                                                          |</span>\n",
       "<span style=\"color: #008000; text-decoration-color: #008000\">✓ | ⏱: </span><span style=\"color: #008000; text-decoration-color: #008000; font-weight: bold\">0.</span><span style=\"color: #008000; text-decoration-color: #008000\">03s </span>\n",
       "</pre>\n"
      ],
      "text/plain": [
       "\u001b[1;32m[\u001b[0m\u001b[32mSCRAPE\u001b[0m\u001b[1;32m]\u001b[0m\u001b[32m.. ◆ \u001b[0m\u001b[4;32mhttps://www.kidocode.com/degrees/technology\u001b[0m\u001b[32m                                                          |\u001b[0m\n",
       "\u001b[32m✓\u001b[0m\u001b[32m | ⏱: \u001b[0m\u001b[1;32m0.\u001b[0m\u001b[32m03s \u001b[0m\n"
      ]
     },
     "metadata": {},
     "output_type": "display_data"
    },
    {
     "data": {
      "text/html": [
       "<pre style=\"white-space:pre;overflow-x:auto;line-height:normal;font-family:Menlo,'DejaVu Sans Mono',consolas,'Courier New',monospace\"><span style=\"color: #008000; text-decoration-color: #008000; font-weight: bold\">[</span><span style=\"color: #008000; text-decoration-color: #008000\">EXTRACT</span><span style=\"color: #008000; text-decoration-color: #008000; font-weight: bold\">]</span><span style=\"color: #008000; text-decoration-color: #008000\">. ■ </span><span style=\"color: #008000; text-decoration-color: #008000; text-decoration: underline\">https://www.kidocode.com/degrees/technology</span><span style=\"color: #008000; text-decoration-color: #008000\">                                                          |</span>\n",
       "<span style=\"color: #008000; text-decoration-color: #008000\">✓ | ⏱: </span><span style=\"color: #008000; text-decoration-color: #008000; font-weight: bold\">0.</span><span style=\"color: #008000; text-decoration-color: #008000\">02s </span>\n",
       "</pre>\n"
      ],
      "text/plain": [
       "\u001b[1;32m[\u001b[0m\u001b[32mEXTRACT\u001b[0m\u001b[1;32m]\u001b[0m\u001b[32m. ■ \u001b[0m\u001b[4;32mhttps://www.kidocode.com/degrees/technology\u001b[0m\u001b[32m                                                          |\u001b[0m\n",
       "\u001b[32m✓\u001b[0m\u001b[32m | ⏱: \u001b[0m\u001b[1;32m0.\u001b[0m\u001b[32m02s \u001b[0m\n"
      ]
     },
     "metadata": {},
     "output_type": "display_data"
    },
    {
     "data": {
      "text/html": [
       "<pre style=\"white-space:pre;overflow-x:auto;line-height:normal;font-family:Menlo,'DejaVu Sans Mono',consolas,'Courier New',monospace\"><span style=\"color: #008000; text-decoration-color: #008000; font-weight: bold\">[</span><span style=\"color: #008000; text-decoration-color: #008000\">COMPLETE</span><span style=\"color: #008000; text-decoration-color: #008000; font-weight: bold\">]</span><span style=\"color: #008000; text-decoration-color: #008000\"> ● </span><span style=\"color: #008000; text-decoration-color: #008000; text-decoration: underline\">https://www.kidocode.com/degrees/technology</span><span style=\"color: #008000; text-decoration-color: #008000\">                                                          |</span>\n",
       "<span style=\"color: #008000; text-decoration-color: #008000\">✓ | ⏱: </span><span style=\"color: #008000; text-decoration-color: #008000; font-weight: bold\">2.</span><span style=\"color: #008000; text-decoration-color: #008000\">06s </span>\n",
       "</pre>\n"
      ],
      "text/plain": [
       "\u001b[1;32m[\u001b[0m\u001b[32mCOMPLETE\u001b[0m\u001b[1;32m]\u001b[0m\u001b[32m ● \u001b[0m\u001b[4;32mhttps://www.kidocode.com/degrees/technology\u001b[0m\u001b[32m                                                          |\u001b[0m\n",
       "\u001b[32m✓\u001b[0m\u001b[32m | ⏱: \u001b[0m\u001b[1;32m2.\u001b[0m\u001b[32m06s \u001b[0m\n"
      ]
     },
     "metadata": {},
     "output_type": "display_data"
    },
    {
     "name": "stdout",
     "output_type": "stream",
     "text": [
      "Successfully extracted 6 companies\n",
      "{\n",
      "  \"section_title\": \"Coding\",\n",
      "  \"section_description\": \"Introducing students to the world of programming through Python, emphasizing foundational coding concepts and creativity in solving problems through generative art and geometric patterns.\",\n",
      "  \"course_name\": \"Coding with Python\",\n",
      "  \"course_description\": \"Explore the exciting intersection of art and technology in Creative Coding with Python. This engaging course introduces young learners to Python programming, teaching them foundational coding concepts through the creation of generative art and geometric patterns. As students progress from basic programming principles to artistic project development, they'll enhance their problem-solving and logical thinking abilities, all within a creative and fun learning environment.\",\n",
      "  \"course_icon\": \"https://cdn.prod.website-files.com/61d6943d6b59241863c825d6/65c0a4d516aec7d103edb1e5_Python-Data-Science-Toolkit-Icon.svg\"\n",
      "}\n"
     ]
    }
   ],
   "source": [
    "import asyncio  \n",
    "from crawl4ai import AsyncWebCrawler, BrowserConfig, CrawlerRunConfig, CacheMode  \n",
    "from crawl4ai import JsonCssExtractionStrategy  \n",
    "import json  \n",
    "  \n",
    "async def main():  \n",
    "    schema = {  \n",
    "        \"name\": \"KidoCode Courses\",  \n",
    "        \"baseSelector\": \"section.charge-methodology .w-tab-content > div\",  \n",
    "        \"fields\": [  \n",
    "            {  \n",
    "                \"name\": \"section_title\",  \n",
    "                \"selector\": \"h3.heading-50\",  \n",
    "                \"type\": \"text\",  \n",
    "            },  \n",
    "            {  \n",
    "                \"name\": \"section_description\",  \n",
    "                \"selector\": \".charge-content\",  \n",
    "                \"type\": \"text\",  \n",
    "            },  \n",
    "            {  \n",
    "                \"name\": \"course_name\",  \n",
    "                \"selector\": \".text-block-93\",  \n",
    "                \"type\": \"text\",  \n",
    "            },  \n",
    "            {  \n",
    "                \"name\": \"course_description\",  \n",
    "                \"selector\": \".course-content-text\",  \n",
    "                \"type\": \"text\",  \n",
    "            },  \n",
    "            {  \n",
    "                \"name\": \"course_icon\",  \n",
    "                \"selector\": \".image-92\",  \n",
    "                \"type\": \"attribute\",  \n",
    "                \"attribute\": \"src\"  \n",
    "            }  \n",
    "        ]  \n",
    "    }  \n",
    "  \n",
    "    extraction_strategy = JsonCssExtractionStrategy(schema, verbose=True)  \n",
    "  \n",
    "    browser_config = BrowserConfig(  \n",
    "        headless=False,  \n",
    "        verbose=True  \n",
    "    )  \n",
    "      \n",
    "    run_config = CrawlerRunConfig(  \n",
    "        extraction_strategy=extraction_strategy,  \n",
    "        js_code=[\"\"\"(async () => {  \n",
    "            const tabs = document.querySelectorAll(\"section.charge-methodology .tabs-menu-3 > div\");  \n",
    "            for(let tab of tabs) {  \n",
    "                tab.scrollIntoView();  \n",
    "                tab.click();  \n",
    "                await new Promise(r => setTimeout(r, 500));  \n",
    "            }  \n",
    "        })();\"\"\"],  \n",
    "        cache_mode=CacheMode.BYPASS  \n",
    "    )  \n",
    "          \n",
    "    async with AsyncWebCrawler(config=browser_config) as crawler:  \n",
    "        result = await crawler.arun(  \n",
    "            url=\"https://www.kidocode.com/degrees/technology\",  \n",
    "            config=run_config  \n",
    "        )  z\n",
    "  \n",
    "        companies = json.loads(result.extracted_content)  \n",
    "        print(f\"Successfully extracted {len(companies)} companies\")  \n",
    "        print(json.dumps(companies[0], indent=2))  \n",
    "  \n",
    "if __name__ == \"__main__\":  \n",
    "    asyncio.run(main())"
   ]
  },
  {
   "cell_type": "code",
   "execution_count": null,
   "id": "2b049610",
   "metadata": {},
   "outputs": [],
   "source": []
  }
 ],
 "metadata": {
  "kernelspec": {
   "display_name": "fake_news",
   "language": "python",
   "name": "python3"
  },
  "language_info": {
   "codemirror_mode": {
    "name": "ipython",
    "version": 3
   },
   "file_extension": ".py",
   "mimetype": "text/x-python",
   "name": "python",
   "nbconvert_exporter": "python",
   "pygments_lexer": "ipython3",
   "version": "3.13.7"
  }
 },
 "nbformat": 4,
 "nbformat_minor": 5
}
