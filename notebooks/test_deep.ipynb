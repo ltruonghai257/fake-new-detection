{
 "cells": [
  {
   "cell_type": "code",
   "execution_count": 2,
   "metadata": {},
   "outputs": [
    {
     "ename": "NameError",
     "evalue": "name '__file__' is not defined",
     "output_type": "error",
     "traceback": [
      "\u001b[31m---------------------------------------------------------------------------\u001b[39m",
      "\u001b[31mNameError\u001b[39m                                 Traceback (most recent call last)",
      "\u001b[36mCell\u001b[39m\u001b[36m \u001b[39m\u001b[32mIn[2]\u001b[39m\u001b[32m, line 7\u001b[39m\n\u001b[32m      4\u001b[39m \u001b[38;5;28;01mimport\u001b[39;00m\u001b[38;5;250m \u001b[39m\u001b[34;01msys\u001b[39;00m\n\u001b[32m      6\u001b[39m \u001b[38;5;66;03m# Add the project root to the Python path\u001b[39;00m\n\u001b[32m----> \u001b[39m\u001b[32m7\u001b[39m sys.path.append(os.path.join(os.path.dirname(\u001b[34;43m__file__\u001b[39;49m), \u001b[33m\"\u001b[39m\u001b[33m..\u001b[39m\u001b[33m\"\u001b[39m))\n\u001b[32m      9\u001b[39m \u001b[38;5;28;01mfrom\u001b[39;00m\u001b[38;5;250m \u001b[39m\u001b[34;01msrc\u001b[39;00m\u001b[34;01m.\u001b[39;00m\u001b[34;01mcrawler\u001b[39;00m\u001b[34;01m.\u001b[39;00m\u001b[34;01mnews\u001b[39;00m\u001b[34;01m.\u001b[39;00m\u001b[34;01mreal\u001b[39;00m\u001b[34;01m.\u001b[39;00m\u001b[34;01mVnExpressCrawler\u001b[39;00m\u001b[38;5;250m \u001b[39m\u001b[38;5;28;01mimport\u001b[39;00m VnExpressCrawler\n\u001b[32m     11\u001b[39m \u001b[38;5;28;01masync\u001b[39;00m \u001b[38;5;28;01mdef\u001b[39;00m\u001b[38;5;250m \u001b[39m\u001b[34mmain\u001b[39m():\n",
      "\u001b[31mNameError\u001b[39m: name '__file__' is not defined"
     ]
    }
   ],
   "source": [
    "import asyncio\n",
    "import os\n",
    "import json\n",
    "import sys\n",
    "\n",
    "# Add the project root to the Python path\n",
    "sys.path.append(os.path.join(os.path.dirname(__file__), \"..\"))\n",
    "\n",
    "from src.crawler.news.real.VnExpressCrawler import VnExpressCrawler\n",
    "\n",
    "async def main():\n",
    "    print(\"--- Testing deep crawling with config ---\")\n",
    "    crawler = VnExpressCrawler()\n",
    "    \n",
    "    deep_crawl_config = {\n",
    "        \"max_depth\": 1,\n",
    "        \"max_pages\": 5,\n",
    "    }\n",
    "    \n",
    "    await crawler.arun(\n",
    "        url=\"https://vnexpress.net/\",\n",
    "        mode=\"deep\",\n",
    "        save_to_file=True,\n",
    "        save_format=\".json\",\n",
    "        deep_crawl_config=deep_crawl_config\n",
    "    )\n",
    "    print(\"Done.\")\n",
    "\n",
    "if __name__ == \"__main__\":\n",
    "    asyncio.run(main())\n"
   ]
  },
  {
   "cell_type": "code",
   "execution_count": null,
   "id": "77ec6c2c",
   "metadata": {},
   "outputs": [],
   "source": []
  }
 ],
 "metadata": {
  "kernelspec": {
   "display_name": "fake_news",
   "language": "python",
   "name": "python3"
  },
  "language_info": {
   "codemirror_mode": {
    "name": "ipython",
    "version": 3
   },
   "file_extension": ".py",
   "mimetype": "text/x-python",
   "name": "python",
   "nbconvert_exporter": "python",
   "pygments_lexer": "ipython3",
   "version": "3.13.7"
  }
 },
 "nbformat": 4,
 "nbformat_minor": 5
}
