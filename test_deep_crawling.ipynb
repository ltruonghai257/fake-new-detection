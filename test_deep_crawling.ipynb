{
 "cells": [
  {
   "cell_type": "code",
   "execution_count": null,
   "metadata": {},
   "outputs": [],
   "source": [
    "import asyncio\n",
    "import os\n",
    "import json\n",
    "import sys\n",
    "\n",
    "# Add the project root to the Python path\n",
    "sys.path.append(os.path.join(os.path.dirname(__file__), \"..\"))\n",
    "\n",
    "from src.crawler.news.real.VnExpressCrawler import VnExpressCrawler\n",
    "\n",
    "async def main():\n",
    "    print(\"--- Testing deep crawling with config ---\")\n",
    "    crawler = VnExpressCrawler()\n",
    "    \n",
    "    deep_crawl_config = {\n",
    "        \"max_depth\": 1,\n",
    "        \"max_pages\": 5,\n",
    "    }\n",
    "    \n",
    "    await crawler.arun(\n",
    "        url=\"https://vnexpress.net/\",\n",
    "        mode=\"deep\",\n",
    "        save_to_file=True,\n",
    "        save_format=\".json\",\n",
    "        deep_crawl_config=deep_crawl_config\n",
    "    )\n",
    "    print(\"Done.\")\n",
    "\n",
    "if __name__ == \"__main__\":\n",
    "    asyncio.run(main())\n"
   ]
  }
 ],
 "metadata": {
  "kernelspec": {
   "display_name": "Python 3",
   "language": "python",
   "name": "python3"
  },
  "language_info": {
   "codemirror_mode": {
    "name": "ipython",
    "version": 3
   },
   "file_extension": ".py",
   "mimetype": "text/x-python",
   "name": "python",
   "nbconvert_exporter": "python",
   "pygments_lexer": "ipython3",
   "version": "3.13.7"
  }
 },
 "nbformat": 4,
 "nbformat_minor": 5
}